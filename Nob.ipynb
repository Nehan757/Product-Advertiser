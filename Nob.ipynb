{
 "cells": [
  {
   "cell_type": "code",
   "id": "initial_id",
   "metadata": {
    "collapsed": true,
    "ExecuteTime": {
     "end_time": "2024-04-28T19:09:35.294117Z",
     "start_time": "2024-04-28T19:09:24.251473Z"
    }
   },
   "source": [
    "from diffusers import DiffusionPipeline\n",
    "import torch\n",
    "import matplotlib.pyplot as plt\n",
    "\n",
    "from rembg import remove\n",
    "from PIL import Image\n",
    "import numpy as np"
   ],
   "outputs": [
    {
     "name": "stderr",
     "output_type": "stream",
     "text": [
      "C:\\Users\\nehan\\.conda\\envs\\p2\\lib\\site-packages\\transformers\\utils\\generic.py:485: UserWarning: torch.utils._pytree._register_pytree_node is deprecated. Please use torch.utils._pytree.register_pytree_node instead.\n",
      "  _torch_pytree._register_pytree_node(\n",
      "C:\\Users\\nehan\\.conda\\envs\\p2\\lib\\site-packages\\transformers\\utils\\generic.py:342: UserWarning: torch.utils._pytree._register_pytree_node is deprecated. Please use torch.utils._pytree.register_pytree_node instead.\n",
      "  _torch_pytree._register_pytree_node(\n",
      "C:\\Users\\nehan\\.conda\\envs\\p2\\lib\\site-packages\\diffusers\\utils\\outputs.py:64: UserWarning: torch.utils._pytree._register_pytree_node is deprecated. Please use torch.utils._pytree.register_pytree_node instead.\n",
      "  torch.utils._pytree._register_pytree_node(\n"
     ]
    },
    {
     "ename": "ModuleNotFoundError",
     "evalue": "No module named 'rembg'",
     "output_type": "error",
     "traceback": [
      "\u001B[1;31m---------------------------------------------------------------------------\u001B[0m",
      "\u001B[1;31mModuleNotFoundError\u001B[0m                       Traceback (most recent call last)",
      "Cell \u001B[1;32mIn[1], line 6\u001B[0m\n\u001B[0;32m      3\u001B[0m \u001B[38;5;28;01mimport\u001B[39;00m \u001B[38;5;21;01mnumpy\u001B[39;00m \u001B[38;5;28;01mas\u001B[39;00m \u001B[38;5;21;01mnp\u001B[39;00m\n\u001B[0;32m      4\u001B[0m \u001B[38;5;28;01mimport\u001B[39;00m \u001B[38;5;21;01mmatplotlib\u001B[39;00m\u001B[38;5;21;01m.\u001B[39;00m\u001B[38;5;21;01mpyplot\u001B[39;00m \u001B[38;5;28;01mas\u001B[39;00m \u001B[38;5;21;01mplt\u001B[39;00m\n\u001B[1;32m----> 6\u001B[0m \u001B[38;5;28;01mfrom\u001B[39;00m \u001B[38;5;21;01mrembg\u001B[39;00m \u001B[38;5;28;01mimport\u001B[39;00m remove\n\u001B[0;32m      7\u001B[0m \u001B[38;5;28;01mfrom\u001B[39;00m \u001B[38;5;21;01mPIL\u001B[39;00m \u001B[38;5;28;01mimport\u001B[39;00m Image\n\u001B[0;32m      8\u001B[0m \u001B[38;5;28;01mimport\u001B[39;00m \u001B[38;5;21;01mnumpy\u001B[39;00m \u001B[38;5;28;01mas\u001B[39;00m \u001B[38;5;21;01mnp\u001B[39;00m\n",
      "\u001B[1;31mModuleNotFoundError\u001B[0m: No module named 'rembg'"
     ]
    }
   ],
   "execution_count": 1
  },
  {
   "metadata": {},
   "cell_type": "code",
   "source": [
    "pipe = DiffusionPipeline.from_pretrained(\"stabilityai/stable-diffusion-xl-base-1.0\", torch_dtype=torch.float16, use_safetensors=True, variant=\"fp16\")\n",
    "pipe.to(\"cuda\")\n"
   ],
   "id": "642ff82bb6c7039a",
   "outputs": [],
   "execution_count": null
  },
  {
   "metadata": {},
   "cell_type": "markdown",
   "source": "ENTER A PROMPT TO GENERATE BACKGROUND FOR THE PRODUCT ",
   "id": "8ae762c3f8e82f60"
  },
  {
   "metadata": {},
   "cell_type": "code",
   "source": "prompt = \"water splashes\"\n",
   "id": "ff85640e3b95f0b4",
   "outputs": [],
   "execution_count": null
  },
  {
   "metadata": {},
   "cell_type": "markdown",
   "source": "Generating the background",
   "id": "7d8fec952ff48e31"
  },
  {
   "metadata": {},
   "cell_type": "code",
   "source": [
    "print(\"Generating the background from the prompt\")\n",
    "image = pipe(prompt=prompt).images[0]\n"
   ],
   "id": "8296de45f3c1f0db",
   "outputs": [],
   "execution_count": null
  },
  {
   "metadata": {},
   "cell_type": "code",
   "source": [
    "plt.imshow(image)\n",
    "plt.axis('off')\n",
    "plt.title(prompt)"
   ],
   "id": "43e445b1f036338d",
   "outputs": [],
   "execution_count": null
  },
  {
   "metadata": {},
   "cell_type": "code",
   "source": "plt.savefig(r\"D:\\Projects(cv)\\HuggingFace\\generated_bg\\bg.png\", bbox_inches='tight')\n",
   "id": "610cdeca09d0210b",
   "outputs": [],
   "execution_count": null
  },
  {
   "metadata": {},
   "cell_type": "code",
   "source": [
    "input_path = r'product1.jpg'\n",
    "output_path = r'C:\\Users\\nehan\\Desktop\\ComputerVision\\result.png'\n",
    "background_path = r'D:\\Projects(cv)\\HuggingFace\\generated_bg\\bg.png'"
   ],
   "id": "877c662adf137825",
   "outputs": [],
   "execution_count": null
  },
  {
   "metadata": {},
   "cell_type": "code",
   "source": [
    "input_image = Image.open(input_path)\n",
    "background_image = Image.open(background_path)"
   ],
   "id": "ff520f7b7bd87cb5",
   "outputs": [],
   "execution_count": null
  },
  {
   "metadata": {},
   "cell_type": "markdown",
   "source": "REMOVING BACKGROUND FROM THE ORIGNAL PRODUCT IMAGE",
   "id": "15cc46f7c84b2cf0"
  },
  {
   "metadata": {},
   "cell_type": "code",
   "source": "output_image = remove(input_image)\n",
   "id": "ad8ae6c5133471e5",
   "outputs": [],
   "execution_count": null
  },
  {
   "metadata": {},
   "cell_type": "code",
   "source": [
    "# Resize the output image to match the background image size\n",
    "output_image = output_image.resize(background_image.size, Image.BILINEAR)\n"
   ],
   "id": "7a8c13cf529bf264",
   "outputs": [],
   "execution_count": null
  },
  {
   "metadata": {},
   "cell_type": "code",
   "source": [
    "# Composite the output image onto the background image\n",
    "composite_image = Image.alpha_composite(background_image.convert('RGBA'), output_image.convert('RGBA'))"
   ],
   "id": "230fadba1c930984",
   "outputs": [],
   "execution_count": null
  },
  {
   "metadata": {},
   "cell_type": "markdown",
   "source": "Saving the final image\n",
   "id": "d6164247e12f17d6"
  },
  {
   "metadata": {},
   "cell_type": "code",
   "source": [
    "composite_image.save(output_path)\n",
    "print(\"final image saved\")"
   ],
   "id": "cd3a17d480a039c4",
   "outputs": [],
   "execution_count": null
  }
 ],
 "metadata": {
  "kernelspec": {
   "display_name": "Python 3",
   "language": "python",
   "name": "python3"
  },
  "language_info": {
   "codemirror_mode": {
    "name": "ipython",
    "version": 2
   },
   "file_extension": ".py",
   "mimetype": "text/x-python",
   "name": "python",
   "nbconvert_exporter": "python",
   "pygments_lexer": "ipython2",
   "version": "2.7.6"
  }
 },
 "nbformat": 4,
 "nbformat_minor": 5
}
